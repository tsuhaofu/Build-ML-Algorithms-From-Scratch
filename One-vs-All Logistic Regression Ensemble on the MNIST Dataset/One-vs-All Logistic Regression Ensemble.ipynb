{
 "cells": [
  {
   "cell_type": "code",
   "execution_count": 1,
   "metadata": {},
   "outputs": [],
   "source": [
    "import numpy as np\n",
    "from scipy.stats import multivariate_normal\n",
    "from sklearn.metrics import confusion_matrix, ConfusionMatrixDisplay\n",
    "import matplotlib.pyplot as plt"
   ]
  },
  {
   "cell_type": "code",
   "execution_count": 2,
   "metadata": {},
   "outputs": [],
   "source": [
    "# Data Preprocessing\n",
    "TRAIN = './mnist_train.csv'\n",
    "TEST = './mnist_test.csv'\n",
    "\n",
    "# Function to load data and split into features and labels\n",
    "def load_data_and_split(filepath):\n",
    "    data = np.genfromtxt(filepath, delimiter=',', skip_header=1, dtype='int')\n",
    "    X = data[:, 1:]  # All columns except the first one\n",
    "    y = data[:, 0]  # Only the first column\n",
    "    return X, y\n",
    "\n",
    "# Load and split the training and testing data\n",
    "X_train, y_train = load_data_and_split(TRAIN)\n",
    "X_test, y_test = load_data_and_split(TEST)\n",
    "\n",
    "# Normalize the training and testing data\n",
    "X_train = X_train.astype(np.float64)\n",
    "X_test = X_test.astype(np.float64)\n",
    "\n",
    "X_train /= 255\n",
    "X_test /= 255"
   ]
  },
  {
   "cell_type": "code",
   "execution_count": 3,
   "metadata": {},
   "outputs": [
    {
     "name": "stdout",
     "output_type": "stream",
     "text": [
      "Accuracy for class 0: 99.170%\n",
      "Accuracy for class 1: 99.360%\n",
      "Accuracy for class 2: 98.060%\n",
      "Accuracy for class 3: 97.760%\n",
      "Accuracy for class 4: 98.350%\n",
      "Accuracy for class 5: 97.810%\n",
      "Accuracy for class 6: 98.600%\n",
      "Accuracy for class 7: 98.370%\n",
      "Accuracy for class 8: 96.110%\n",
      "Accuracy for class 9: 96.750%\n",
      "Ensemble accuracy: 92.120%\n",
      "One-Zero Error: 7.880%\n"
     ]
    }
   ],
   "source": [
    "from sklearn.linear_model import LogisticRegression\n",
    "from sklearn.metrics import accuracy_score\n",
    "import warnings \n",
    "  \n",
    "# Settings the warnings to be ignored \n",
    "warnings.filterwarnings('ignore') \n",
    "\n",
    "classes = np.unique(y_train)\n",
    "\n",
    "# Initialize the models\n",
    "logistic_models = []\n",
    "\n",
    "# Train one-vs-all models\n",
    "for idx, c in enumerate(classes):\n",
    "    # Prepare the target vector for the current class\n",
    "    y_train_binary = (y_train == c).astype(int)\n",
    "    # Train the model\n",
    "    model = LogisticRegression(multi_class='ovr')\n",
    "    model.fit(X_train, y_train_binary)\n",
    "    \n",
    "    # Save the model\n",
    "    logistic_models.append(model)\n",
    "\n",
    "# Evaluate the models\n",
    "ensemble_predictions = np.zeros((X_test.shape[0], 10))\n",
    "for class_idx, model in enumerate(logistic_models):\n",
    "    # Predict the probability for the positive class\n",
    "    ensemble_predictions[:, class_idx] = model.predict_proba(X_test)[:, 1]\n",
    "\n",
    "# Choose the class with the highest probability\n",
    "y_pred_ensemble = np.argmax(ensemble_predictions, axis=1)\n",
    "\n",
    "# Compute individual accuracies\n",
    "for class_idx, model in enumerate(logistic_models):\n",
    "    y_test_binary = (y_test == class_idx).astype(int)\n",
    "    y_pred_binary = model.predict(X_test)\n",
    "    accuracy = np.mean(y_test_binary == y_pred_binary)\n",
    "    print(f\"Accuracy for class {class_idx}: {accuracy * 100:.3f}%\")\n",
    "\n",
    "# Compute ensemble accuracy\n",
    "ensemble_accuracy = np.mean(y_test== y_pred_ensemble)\n",
    "print(f\"Ensemble accuracy: {ensemble_accuracy * 100:.3f}%\")\n",
    "print(f\"One-Zero Error: {(1-ensemble_accuracy)*100 :.3f}%\")\n",
    "\n"
   ]
  }
 ],
 "metadata": {
  "kernelspec": {
   "display_name": "fintech",
   "language": "python",
   "name": "python3"
  },
  "language_info": {
   "codemirror_mode": {
    "name": "ipython",
    "version": 3
   },
   "file_extension": ".py",
   "mimetype": "text/x-python",
   "name": "python",
   "nbconvert_exporter": "python",
   "pygments_lexer": "ipython3",
   "version": "3.9.13"
  }
 },
 "nbformat": 4,
 "nbformat_minor": 2
}
